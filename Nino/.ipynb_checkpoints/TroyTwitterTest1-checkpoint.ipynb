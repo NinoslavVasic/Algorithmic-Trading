{
 "cells": [
  {
   "cell_type": "code",
   "execution_count": 1,
   "metadata": {},
   "outputs": [],
   "source": [
    "import tweepy as tw\n",
    "import pandas as pd"
   ]
  },
  {
   "cell_type": "code",
   "execution_count": 32,
   "metadata": {},
   "outputs": [],
   "source": [
    "#from twitter import Twitter\n",
    "from json import loads\n",
    "from os import getenv\n",
    "from queue import Empty\n",
    "from queue import Queue\n",
    "from threading import Event\n",
    "from threading import Thread\n",
    "from time import time\n",
    "from tweepy import API\n",
    "from tweepy import Cursor\n",
    "from tweepy import OAuthHandler\n",
    "from tweepy import Stream\n",
    "from tweepy.streaming import StreamListener\n",
    "import logging \n",
    "\n",
    "#from logs import Logs # import logging if necceseary"
   ]
  },
  {
   "cell_type": "code",
   "execution_count": 19,
   "metadata": {},
   "outputs": [],
   "source": [
    "TWITTER_CONSUMER_KEY = \"TWITTER_CONSUMER_KEY\"\n",
    "TWITTER_CONSUMER_SECRET_KEY = \"TWITTER_CONSUMER_KEY_SECRET\"\n",
    "TWITTER_ACCESS_TOKEN = \"TWITTER_ACCESS_TOKEN\"\n",
    "TWITTER_ACCESS_SECRET_TOKEN = \"TWITTER_ACCESS_SECRET_TOKEN\""
   ]
  },
  {
   "cell_type": "code",
   "execution_count": 20,
   "metadata": {},
   "outputs": [
    {
     "data": {
      "text/plain": [
       "27"
      ]
     },
     "execution_count": 20,
     "metadata": {},
     "output_type": "execute_result"
    }
   ],
   "source": [
    "len(\"TWITTER_ACCESS_SECRET_TOKEN\")"
   ]
  },
  {
   "cell_type": "code",
   "execution_count": 22,
   "metadata": {},
   "outputs": [],
   "source": [
    "# The user ID of @realDonaldTrump.\n",
    "TRUMP_USER_ID = \"25073877\"\n",
    "POTUS_USER_ID = \"822215679726100480\"\n",
    "\n",
    "# The user ID of Jamie Dimon (@emo_jamie_dimon).\n",
    "DIMON_USER_ID = \"3319044580\"\n",
    "# The user ID of Jim Cramer (@jimcramer).\n",
    "CRAMER_USER_ID = \"14216123\"\n",
    "# The user ID of Lloyd Blankfein (@lloydblankfein).\n",
    "BLANKFEIN_USER_ID = \"313381067\"\n",
    "# The user ID of David Solomon (@).\n",
    "# SOLOMON_USER_ID = \" \"\n",
    "# The user ID of Michael Corbat (@).\n",
    "# SOLOMON_USER_ID = \" \"\n",
    "\n",
    "\n",
    "\n",
    "# The URL pattern for links to tweets.\n",
    "TWEET_URL = \"https://twitter.com/%s/status/%s\""
   ]
  },
  {
   "cell_type": "code",
   "execution_count": null,
   "metadata": {},
   "outputs": [],
   "source": []
  },
  {
   "cell_type": "code",
   "execution_count": null,
   "metadata": {},
   "outputs": [],
   "source": []
  },
  {
   "cell_type": "code",
   "execution_count": null,
   "metadata": {},
   "outputs": [],
   "source": []
  },
  {
   "cell_type": "code",
   "execution_count": null,
   "metadata": {},
   "outputs": [],
   "source": []
  },
  {
   "cell_type": "code",
   "execution_count": null,
   "metadata": {},
   "outputs": [],
   "source": []
  },
  {
   "cell_type": "code",
   "execution_count": null,
   "metadata": {},
   "outputs": [],
   "source": []
  }
 ],
 "metadata": {
  "kernelspec": {
   "display_name": "Python 3",
   "language": "python",
   "name": "python3"
  },
  "language_info": {
   "codemirror_mode": {
    "name": "ipython",
    "version": 3
   },
   "file_extension": ".py",
   "mimetype": "text/x-python",
   "name": "python",
   "nbconvert_exporter": "python",
   "pygments_lexer": "ipython3",
   "version": "3.7.6"
  }
 },
 "nbformat": 4,
 "nbformat_minor": 4
}
